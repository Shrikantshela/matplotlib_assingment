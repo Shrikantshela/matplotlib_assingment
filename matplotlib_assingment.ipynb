{
 "cells": [
  {
   "cell_type": "code",
   "execution_count": null,
   "id": "ad851894-247f-42c4-826e-dd716872725e",
   "metadata": {},
   "outputs": [],
   "source": [
    "#Q1: What is Matplotlib? Why is it used? Name five plots that can be plotted using the Pyplot module of matplotlib\n",
    "ans:-Matplotlib is a popular Python library used for data visualization. It provides a wide range of tools for creating various types of plots and charts, making it a go-to choice for visualizing data in fields like science, engineering, finance, and more.\n",
    "\n",
    "The Pyplot module within Matplotlib provides a MATLAB-like interface for creating plots easily. It's used for generating a variety of plots, such as:\n",
    "\n",
    "Line Plot: Displaying data points connected by straight line segments.\n",
    "Scatter Plot: Visualizing individual data points as markers.\n",
    "Histogram: Showing the distribution of numerical data by forming bins and counting frequencies.\n",
    "Bar Plot: Comparing categories by representing data as bars.\n",
    "Pie Chart: Illustrating proportions or percentages of a whole using a circular chart.\n",
    "These are just a few examples, but Matplotlib's capabilities extend to various other types of plots, including box plots, contour plots, heatmaps, and more, allowing users to effectively communicate insights from their data.\n"
   ]
  },
  {
   "cell_type": "code",
   "execution_count": 1,
   "id": "be7872dd-8828-4f8c-82b4-76d7f8a7e3af",
   "metadata": {},
   "outputs": [],
   "source": [
    "#Q2: What is a scatter plot? Use the following code to generate data for x and y. Using this generated data\n",
    "plot a scatter plot.\n",
    "import numpy as np\n",
    "np.random.seed(3)\n",
    "x = 3 + np.random.normal(0, 2, 50)\n",
    "y = 3 + np.random.normal(0, 2, len(x))\n",
    "ans:-import matplotlib.pyplot as plt\n",
    "import numpy as np\n",
    "\n",
    "np.random.seed(3)\n",
    "x = 3 + np.random.normal(0, 2, 50)\n",
    "y = 3 + np.random.normal(0, 2, len(x))\n",
    "\n",
    "plt.figure(figsize=(8, 6))  # Optional: Adjust the figure size\n",
    "\n",
    "plt.scatter(x, y, c='blue', alpha=0.7)  # Create a scatter plot with blue markers and transparency\n",
    "plt.title('Scatter Plot')  # Set the title of the plot\n",
    "plt.xlabel('X-axis')  # Label for the x-axis\n",
    "plt.ylabel('Y-axis')  # Label for the y-axis\n",
    "plt.grid(True)  # Optional: Add gridlines\n",
    "\n",
    "plt.show()  # Display the plot\n"
   ]
  },
  {
   "cell_type": "code",
   "execution_count": 2,
   "id": "46f3a90b-26f7-4661-a7a6-741ed9f63c8f",
   "metadata": {},
   "outputs": [
    {
     "data": {
      "image/png": "[encoded data removed]",
      "text/plain": [
       "<Figure size 800x600 with 1 Axes>"
      ]
     },
     "metadata": {},
     "output_type": "display_data"
    }
   ],
   "source": [
    "#Q3: Why is the subplot() function used? Draw four line plots using the subplot() function.\n",
    "Use the following data:\n",
    "import numpy as np\n",
    "For line 1: x = np.array([0, 1, 2, 3, 4, 5]) and y = np.array([0, 100, 200, 300, 400, 500])\n",
    "For line 2: x = np.array([0, 1, 2, 3, 4, 5]) and y = np.array([50, 20, 40, 20, 60, 70])\n",
    "For line 3: x = np.array([0, 1, 2, 3, 4, 5]) and y = np.array([10, 20, 30, 40, 50, 60])\n",
    "For line 4: x = np.array([0, 1, 2, 3, 4, 5]) and y = np.array([200, 350, 250, 550, 450, 150])\n",
    "ans:-import matplotlib.pyplot as plt\n",
    "import numpy as np\n",
    "\n",
    "x1 = np.array([0, 1, 2, 3, 4, 5])\n",
    "y1 = np.array([0, 100, 200, 300, 400, 500])\n",
    "\n",
    "x2 = np.array([0, 1, 2, 3, 4, 5])\n",
    "y2 = np.array([50, 20, 40, 20, 60, 70])\n",
    "\n",
    "x3 = np.array([0, 1, 2, 3, 4, 5])\n",
    "y3 = np.array([10, 20, 30, 40, 50, 60])\n",
    "\n",
    "x4 = np.array([0, 1, 2, 3, 4, 5])\n",
    "y4 = np.array([200, 350, 250, 550, 450, 150])\n",
    "\n",
    "plt.figure(figsize=(10, 8))  # Optional: Adjust the figure size\n",
    "\n",
    "# Subplot 1\n",
    "plt.subplot(221)  # 2 rows, 2 columns, subplot 1\n",
    "plt.plot(x1, y1)\n",
    "plt.title('Line 1')\n",
    "\n",
    "# Subplot 2\n",
    "plt.subplot(222)  # 2 rows, 2 columns, subplot 2\n",
    "plt.plot(x2, y2)\n",
    "plt.title('Line 2')\n",
    "\n",
    "# Subplot 3\n",
    "plt.subplot(223)  # 2 rows, 2 columns, subplot 3\n",
    "plt.plot(x3, y3)\n",
    "plt.title('Line 3')\n",
    "\n",
    "# Subplot 4\n",
    "plt.subplot(224)  # 2 rows, 2 columns, subplot 4\n",
    "plt.plot(x4, y4)\n",
    "plt.title('Line 4')\n",
    "\n",
    "plt.tight_layout()  # Optional: Adjust the layout for better spacing\n",
    "plt.show()\n"
   ]
  },
  {
   "cell_type": "code",
   "execution_count": null,
   "id": "35c401c7-94cd-435e-b8ff-0980c8e64c14",
   "metadata": {},
   "outputs": [],
   "source": [
    "#Q4: What is a bar plot? Why is it used? Using the following data plot a bar plot and a horizontal bar plot.\n",
    "import numpy as np\n",
    "company = np.array([\"Apple\", \"Microsoft\", \"Google\", \"AMD\"])\n",
    "profit = np.array([3000, 8000, 1000, 10000])\n",
    "ans:-import matplotlib.pyplot as plt\n",
    "import numpy as np\n",
    "\n",
    "company = np.array([\"Apple\", \"Microsoft\", \"Google\", \"AMD\"])\n",
    "profit = np.array([3000, 8000, 1000, 10000])\n",
    "\n",
    "# Vertical Bar Plot\n",
    "plt.figure(figsize=(8, 6))  # Optional: Adjust figure size\n",
    "\n",
    "plt.bar(company, profit, color='skyblue')  # Vertical bar plot\n",
    "plt.title('Company Profits (Vertical Bar Plot)')\n",
    "plt.xlabel('Company')\n",
    "plt.ylabel('Profit')\n",
    "plt.xticks(rotation=45)  # Optional: Rotate x-axis labels for better readability\n",
    "\n",
    "plt.show()\n",
    "\n",
    "# Horizontal Bar Plot\n",
    "plt.figure(figsize=(8, 6))  # Optional: Adjust figure size\n",
    "\n",
    "plt.barh(company, profit, color='salmon')  # Horizontal bar plot\n",
    "plt.title('Company Profits (Horizontal Bar Plot)')\n",
    "plt.xlabel('Profit')\n",
    "plt.ylabel('Company')\n",
    "\n",
    "plt.show()\n",
    "\n"
   ]
  },
  {
   "cell_type": "code",
   "execution_count": null,
   "id": "519378f4-9b72-4818-9d65-10f5d50796ec",
   "metadata": {},
   "outputs": [],
   "source": [
    "Q5: What is a box plot? Why is it used? Using the following data plot a box plot.\n",
    "box1 = np.random.normal(100, 10, 200)\n",
    "box2 = np.random.normal(90, 20, 200)\n",
    "ans:-import matplotlib.pyplot as plt\n",
    "import numpy as np\n",
    "\n",
    "box1 = np.random.normal(100, 10, 200)\n",
    "box2 = np.random.normal(90, 20, 200)\n",
    "\n",
    "data = [box1, box2]\n",
    "\n",
    "plt.figure(figsize=(8, 6))  # Optional: Adjust figure size\n",
    "\n",
    "plt.boxplot(data, labels=['Box 1', 'Box 2'])\n",
    "plt.title('Box Plot of Box 1 and Box 2')\n",
    "plt.ylabel('Values')\n",
    "\n",
    "plt.show()\n",
    "\n"
   ]
  },
  {
   "cell_type": "code",
   "execution_count": null,
   "id": "408afdb8-b312-415d-99ff-0c30cf1318f2",
   "metadata": {},
   "outputs": [],
   "source": []
  },
  {
   "cell_type": "code",
   "execution_count": null,
   "id": "896c3d59-d20b-4c79-ba42-b8650ee2dc0e",
   "metadata": {},
   "outputs": [],
   "source": []
  }
 ],
 "metadata": {
  "kernelspec": {
   "display_name": "Python 3 (ipykernel)",
   "language": "python",
   "name": "python3"
  },
  "language_info": {
   "codemirror_mode": {
    "name": "ipython",
    "version": 3
   },
   "file_extension": ".py",
   "mimetype": "text/x-python",
   "name": "python",
   "nbconvert_exporter": "python",
   "pygments_lexer": "ipython3",
   "version": "3.10.8"
  }
 },
 "nbformat": 4,
 "nbformat_minor": 5
}
